{
 "cells": [
  {
   "cell_type": "markdown",
   "metadata": {},
   "source": [
    "# Instructions\n",
    "\n",
    "The assignment consists of the following task. \n",
    "\n",
    "Get familiar with the [ORKG API](https://www.orkg.org/orkg/doc/api/) and write the required Python code to retrieve the p-value of the statistical hypothesis test published in the [paper](https://www.orkg.org/orkg/paper/R4059) by Haddad et al. titled \"Iron-regulatory proteins secure iron availability in cardiomyocytes to prevent heart failure\" and display the numerical value as output.\n",
    "\n",
    "Return the assignment with the output visible.\n",
    "\n",
    "Good luck!"
   ]
  },
  {
   "cell_type": "code",
   "execution_count": 41,
   "metadata": {},
   "outputs": [],
   "source": [
    "import requests\n",
    "\n",
    "api = 'http://www.orkg.org/orkg/api/'\n",
    "\n",
    "# ..."
   ]
  }
 ],
 "metadata": {
  "kernelspec": {
   "display_name": "Python 3",
   "language": "python",
   "name": "python3"
  },
  "language_info": {
   "codemirror_mode": {
    "name": "ipython",
    "version": 3
   },
   "file_extension": ".py",
   "mimetype": "text/x-python",
   "name": "python",
   "nbconvert_exporter": "python",
   "pygments_lexer": "ipython3",
   "version": "3.7.4"
  }
 },
 "nbformat": 4,
 "nbformat_minor": 4
}
