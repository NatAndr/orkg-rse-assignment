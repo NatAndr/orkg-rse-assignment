{
 "cells": [
  {
   "cell_type": "code",
   "execution_count": 6,
   "metadata": {},
   "outputs": [],
   "source": [
    "import requests\n",
    "\n",
    "STATEMENT_API = 'https://www.orkg.org/orkg/api/statements/subject/'\n",
    "RESOURCE_API = 'https://www.orkg.org/orkg/api/classes/Paper/resources/'\n",
    "PAPER_NAME = 'Iron-regulatory proteins secure iron availability in cardiomyocytes to prevent heart failure'\n",
    "\n",
    "def getStatement(id, label, field):\n",
    "  api = f'{STATEMENT_API}{id}/'\n",
    "  response = requests.get(api)\n",
    "  statement = [x for x in response.json() if x['predicate']['label'] == label]\n",
    "  return statement[0]['object'][field]"
   ]
  },
  {
   "cell_type": "code",
   "execution_count": 7,
   "metadata": {},
   "outputs": [],
   "source": [
    "paperResponse = requests.get(RESOURCE_API, params = f'q={PAPER_NAME}')\n",
    "paperId = paperResponse.json()[0]['id']"
   ]
  },
  {
   "cell_type": "code",
   "execution_count": 8,
   "metadata": {},
   "outputs": [
    {
     "name": "stdout",
     "output_type": "stream",
     "text": [
      "1.3111247517411591e-08\n"
     ]
    }
   ],
   "source": [
    "contributionId = getStatement(paperId, 'has contribution', 'id')\n",
    "contributionDataId = getStatement(contributionId, 'yields', 'id')\n",
    "pValueDataId = getStatement(contributionDataId, 'has specified output', 'id')\n",
    "pValueSpecificationId = getStatement(pValueDataId, 'has value specification', 'id')\n",
    "pValue = getStatement(pValueSpecificationId, 'has specified numeric value', 'label')\n",
    "\n",
    "print(pValue)"
   ]
  }
 ],
 "metadata": {
  "kernelspec": {
   "display_name": "Python 3",
   "language": "python",
   "name": "python3"
  },
  "language_info": {
   "codemirror_mode": {
    "name": "ipython",
    "version": 3
   },
   "file_extension": ".py",
   "mimetype": "text/x-python",
   "name": "python",
   "nbconvert_exporter": "python",
   "pygments_lexer": "ipython3",
   "version": "3.7.4"
  }
 },
 "nbformat": 4,
 "nbformat_minor": 2
}
